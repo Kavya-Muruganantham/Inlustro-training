{
  "nbformat": 4,
  "nbformat_minor": 0,
  "metadata": {
    "colab": {
      "provenance": []
    },
    "kernelspec": {
      "name": "python3",
      "display_name": "Python 3"
    },
    "language_info": {
      "name": "python"
    }
  },
  "cells": [
    {
      "cell_type": "code",
      "source": [
        "attempts=3\n",
        "passcode=\"hello\"\n",
        "while attempts>0:\n",
        "  passwrd=input(\"Enter your password:\")\n",
        "  if passcode==passwrd:\n",
        "    print(\"login successfull\")\n",
        "    break\n",
        "  else:\n",
        "    attempts-=1\n",
        "    print(\"try again\")\n",
        "  if attempts ==0:\n",
        "    print(\"you have no attempts\")"
      ],
      "metadata": {
        "id": "vrVnkcwJrmsx",
        "colab": {
          "base_uri": "https://localhost:8080/"
        },
        "outputId": "9b9c38e6-07c6-46bd-8a77-d512959cda1c"
      },
      "execution_count": 1,
      "outputs": [
        {
          "output_type": "stream",
          "name": "stdout",
          "text": [
            "Enter your password:helo\n",
            "try again\n",
            "Enter your password:hello\n",
            "login successfull\n"
          ]
        }
      ]
    },
    {
      "cell_type": "code",
      "source": [
        "balance=\"12000\"\n",
        "x=int(input(\"enter the amount:\"))\n",
        "if x>int(balance):\n",
        " print(\"insufficient balance\")\n",
        "else:\n",
        "  print(\"amount withdrawed\")\n",
        "  print(\"amount balance=\",int(balance)-x)"
      ],
      "metadata": {
        "colab": {
          "base_uri": "https://localhost:8080/"
        },
        "id": "L7hSV6pLQ-_v",
        "outputId": "db79fb3b-9681-439c-c11b-85d5421be01d"
      },
      "execution_count": 2,
      "outputs": [
        {
          "output_type": "stream",
          "name": "stdout",
          "text": [
            "enter the amount:6000\n",
            "amount withdrawed\n",
            "amount balance= 6000\n"
          ]
        }
      ]
    },
    {
      "cell_type": "code",
      "source": [
        "lst1=[\"apple\",\"orange\",\"jackfriut\",\"mango\",\"abc\",12,2003]\n",
        "print(lst1[2],lst1[4])"
      ],
      "metadata": {
        "colab": {
          "base_uri": "https://localhost:8080/"
        },
        "id": "if5s2FhtREh0",
        "outputId": "9aa35bbc-747b-4631-b75f-181a37f9f5a5"
      },
      "execution_count": 3,
      "outputs": [
        {
          "output_type": "stream",
          "name": "stdout",
          "text": [
            "jackfriut abc\n"
          ]
        }
      ]
    },
    {
      "cell_type": "code",
      "source": [
        "lst1=[\"apple\",\"orange\",\"jackfriut\",\"mango\",\"abc\",12,2003]\n",
        "print(lst1[1:5])\n",
        "\n",
        "lst1[1]=\"kiwi\"\n",
        "print(lst1)\n",
        "\n",
        "lst1.remove(12)\n",
        "print(lst1)\n",
        "\n",
        "lst2=[\"sigc\",\"ds\"]\n",
        "lst3=lst1+lst2\n",
        "print(lst3)\n",
        "for i in lst3:\n",
        "  print (i)\n",
        "\n",
        "lst3.insert(4,\"den\")\n",
        "print(lst3)"
      ],
      "metadata": {
        "colab": {
          "base_uri": "https://localhost:8080/"
        },
        "id": "EbEGjMk2RMZN",
        "outputId": "b3bb419a-8d72-4033-d250-093c82f99b1f"
      },
      "execution_count": 4,
      "outputs": [
        {
          "output_type": "stream",
          "name": "stdout",
          "text": [
            "['orange', 'jackfriut', 'mango', 'abc']\n",
            "['apple', 'kiwi', 'jackfriut', 'mango', 'abc', 12, 2003]\n",
            "['apple', 'kiwi', 'jackfriut', 'mango', 'abc', 2003]\n",
            "['apple', 'kiwi', 'jackfriut', 'mango', 'abc', 2003, 'sigc', 'ds']\n",
            "apple\n",
            "kiwi\n",
            "jackfriut\n",
            "mango\n",
            "abc\n",
            "2003\n",
            "sigc\n",
            "ds\n",
            "['apple', 'kiwi', 'jackfriut', 'mango', 'den', 'abc', 2003, 'sigc', 'ds']\n"
          ]
        }
      ]
    },
    {
      "cell_type": "code",
      "source": [
        "x=\"I am kavya from trichy\"\n",
        "if \"kavya\" in x:\n",
        "  print(\"true\")\n",
        "else:\n",
        "  print(\"false\")"
      ],
      "metadata": {
        "colab": {
          "base_uri": "https://localhost:8080/"
        },
        "id": "-scOS7z8RQmS",
        "outputId": "c1220d2c-fe87-4bcc-f900-25a618193f5a"
      },
      "execution_count": 6,
      "outputs": [
        {
          "output_type": "stream",
          "name": "stdout",
          "text": [
            "true\n"
          ]
        }
      ]
    },
    {
      "cell_type": "code",
      "source": [
        "x=\"I am kavya from trichy\"\n",
        "print(\"no\" in x)"
      ],
      "metadata": {
        "colab": {
          "base_uri": "https://localhost:8080/"
        },
        "id": "3xIdDUH2RWdz",
        "outputId": "af0e508c-87be-46c2-c09c-07cae6ab5ba9"
      },
      "execution_count": 7,
      "outputs": [
        {
          "output_type": "stream",
          "name": "stdout",
          "text": [
            "False\n"
          ]
        }
      ]
    },
    {
      "cell_type": "code",
      "source": [
        "x.upper()"
      ],
      "metadata": {
        "colab": {
          "base_uri": "https://localhost:8080/",
          "height": 35
        },
        "id": "Gf9p3PCMRkIN",
        "outputId": "a2d1f1fa-78de-42c0-9089-2a14e8ca5e31"
      },
      "execution_count": 8,
      "outputs": [
        {
          "output_type": "execute_result",
          "data": {
            "text/plain": [
              "'I AM KAVYA FROM TRICHY'"
            ],
            "application/vnd.google.colaboratory.intrinsic+json": {
              "type": "string"
            }
          },
          "metadata": {},
          "execution_count": 8
        }
      ]
    },
    {
      "cell_type": "code",
      "source": [
        "x.lower()"
      ],
      "metadata": {
        "colab": {
          "base_uri": "https://localhost:8080/",
          "height": 35
        },
        "id": "4xZYqq-MRmCz",
        "outputId": "2c6443dc-dc88-4982-fbb2-f62bcd6a5858"
      },
      "execution_count": 9,
      "outputs": [
        {
          "output_type": "execute_result",
          "data": {
            "text/plain": [
              "'i am kavya from trichy'"
            ],
            "application/vnd.google.colaboratory.intrinsic+json": {
              "type": "string"
            }
          },
          "metadata": {},
          "execution_count": 9
        }
      ]
    },
    {
      "cell_type": "code",
      "source": [
        "print(x[5:12])"
      ],
      "metadata": {
        "colab": {
          "base_uri": "https://localhost:8080/"
        },
        "id": "kNU6R3WZRreD",
        "outputId": "f65a9894-6f11-415d-ff4e-f1e9e948a620"
      },
      "execution_count": 10,
      "outputs": [
        {
          "output_type": "stream",
          "name": "stdout",
          "text": [
            "kavya f\n"
          ]
        }
      ]
    },
    {
      "cell_type": "code",
      "source": [
        "x.split()"
      ],
      "metadata": {
        "colab": {
          "base_uri": "https://localhost:8080/"
        },
        "id": "e1cy3utwR0LD",
        "outputId": "1c7915ed-f45c-4d1d-f860-a1d2eac586aa"
      },
      "execution_count": 11,
      "outputs": [
        {
          "output_type": "execute_result",
          "data": {
            "text/plain": [
              "['I', 'am', 'kavya', 'from', 'trichy']"
            ]
          },
          "metadata": {},
          "execution_count": 11
        }
      ]
    },
    {
      "cell_type": "code",
      "source": [
        "z=\" second Ds\"\n",
        "x+z"
      ],
      "metadata": {
        "colab": {
          "base_uri": "https://localhost:8080/",
          "height": 35
        },
        "id": "lWTZLGMAR280",
        "outputId": "b60e7227-1721-4165-ec3d-2a5b73115b5d"
      },
      "execution_count": 12,
      "outputs": [
        {
          "output_type": "execute_result",
          "data": {
            "text/plain": [
              "'I am kavya from trichy second Ds'"
            ],
            "application/vnd.google.colaboratory.intrinsic+json": {
              "type": "string"
            }
          },
          "metadata": {},
          "execution_count": 12
        }
      ]
    },
    {
      "cell_type": "code",
      "source": [
        "attempts=3\n",
        "print(f\"only {attempts} left\")"
      ],
      "metadata": {
        "colab": {
          "base_uri": "https://localhost:8080/"
        },
        "id": "umlSeKC1R5dN",
        "outputId": "1c5f3bef-cef5-4910-e9a6-c14534a2d07c"
      },
      "execution_count": 13,
      "outputs": [
        {
          "output_type": "stream",
          "name": "stdout",
          "text": [
            "only 3 left\n"
          ]
        }
      ]
    }
  ]
}